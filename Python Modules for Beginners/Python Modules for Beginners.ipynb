{
 "cells": [
  {
   "cell_type": "markdown",
   "id": "c8beaae3",
   "metadata": {},
   "source": [
    "<p style=\"font-family: 'Comic Sans MS';\">Introduction to Modules in Python\n",
    "Python modules are files containing Python code. They can be imported into other Python scripts to add functionality, making it easier to reuse code and avoid duplication.\n",
    "\n",
    "In this notebook, we'll explore how to import modules in Python, specifically the math and random modules. We'll also cover how to import specific functions from modules and the advantages of doing so, as well as how to create our own modules.\n",
    "\n",
    "Importing Modules\n",
    "To import a module in Python, you can use the import keyword followed by the name of the module. For example, to import the math module, you can use: </p>\n",
    "\n"
   ]
  },
  {
   "cell_type": "code",
   "execution_count": 1,
   "id": "aebf81fc",
   "metadata": {},
   "outputs": [],
   "source": [
    "import math"
   ]
  },
  {
   "cell_type": "markdown",
   "id": "37a98ea0",
   "metadata": {},
   "source": [
    "Once imported, you can use the functions and variables defined in the module by prefixing them with the module name, separated by a dot. For example, to use the sqrt() function from the math module, you can use:"
   ]
  },
  {
   "cell_type": "code",
   "execution_count": 15,
   "id": "7bec2594",
   "metadata": {},
   "outputs": [
    {
     "name": "stdout",
     "output_type": "stream",
     "text": [
      "5.0\n"
     ]
    }
   ],
   "source": [
    "import math\n",
    "\n",
    "x = math.sqrt(25)\n",
    "print(x)"
   ]
  },
  {
   "cell_type": "markdown",
   "id": "5dffffbb",
   "metadata": {},
   "source": [
    "#### Importing Specific Functions\n",
    "You can also import specific functions or variables from a module using the from keyword. For example, to import the sqrt() function from the math module, you can use:"
   ]
  },
  {
   "cell_type": "code",
   "execution_count": 4,
   "id": "b66f4661",
   "metadata": {},
   "outputs": [
    {
     "name": "stdout",
     "output_type": "stream",
     "text": [
      "5.0\n"
     ]
    }
   ],
   "source": [
    "from math import sqrt\n",
    "\n",
    "x = sqrt(25)\n",
    "print(x)"
   ]
  },
  {
   "cell_type": "markdown",
   "id": "338bf263",
   "metadata": {},
   "source": [
    "#### Now we can use the functions and variables defined in the math module by prefixing them with \"math.\""
   ]
  },
  {
   "cell_type": "code",
   "execution_count": 5,
   "id": "46dd1d22",
   "metadata": {},
   "outputs": [],
   "source": [
    "from math import pi, sqrt"
   ]
  },
  {
   "cell_type": "code",
   "execution_count": 6,
   "id": "0e7f7f92",
   "metadata": {},
   "outputs": [
    {
     "name": "stdout",
     "output_type": "stream",
     "text": [
      "3.141592653589793\n",
      "4.0\n"
     ]
    }
   ],
   "source": [
    "print(pi) # 3.141592653589793\n",
    "print(sqrt(16)) # 4.0"
   ]
  },
  {
   "cell_type": "markdown",
   "id": "6e792318",
   "metadata": {},
   "source": [
    "#### This can be advantageous because it makes our code shorter and more readable.\n"
   ]
  },
  {
   "cell_type": "markdown",
   "id": "b08442fe",
   "metadata": {},
   "source": [
    "Math Module\n",
    "The math module provides a range of mathematical functions, constants, and methods. Here are some examples:"
   ]
  },
  {
   "cell_type": "code",
   "execution_count": 7,
   "id": "f3aadb5d",
   "metadata": {},
   "outputs": [
    {
     "name": "stdout",
     "output_type": "stream",
     "text": [
      "3.141592653589793\n",
      "2.718281828459045\n",
      "1.0\n",
      "-1.0\n",
      "7.38905609893065\n",
      "2.302585092994046\n"
     ]
    }
   ],
   "source": [
    "import math\n",
    "\n",
    "# Constants\n",
    "print(math.pi)    \n",
    "print(math.e)     \n",
    "\n",
    "# Trigonometric functions\n",
    "print(math.sin(math.pi/2))    \n",
    "print(math.cos(math.pi))      \n",
    "# Exponential and logarithmic functions\n",
    "print(math.exp(2))            \n",
    "print(math.log(10))           "
   ]
  },
  {
   "cell_type": "code",
   "execution_count": 8,
   "id": "75c6817d",
   "metadata": {},
   "outputs": [
    {
     "name": "stdout",
     "output_type": "stream",
     "text": [
      "0.5549355424696908\n",
      "3\n"
     ]
    }
   ],
   "source": [
    "# Let's take a look at the random module now.\n",
    "import random\n",
    "\n",
    "# The random module provides functions for generating random numbers.\n",
    "print(random.random()) # a random float between 0 and 1\n",
    "print(random.randint(1, 10)) # a random integer between 1 and 10"
   ]
  },
  {
   "cell_type": "code",
   "execution_count": 10,
   "id": "11b24728",
   "metadata": {},
   "outputs": [],
   "source": [
    "# We can also import specific functions from the random module using the \n",
    "# \"from ... import ...\" syntax.\n",
    "from random import random, randint"
   ]
  },
  {
   "cell_type": "code",
   "execution_count": 11,
   "id": "fc9bc187",
   "metadata": {},
   "outputs": [
    {
     "name": "stdout",
     "output_type": "stream",
     "text": [
      "0.8791990889758597\n",
      "5\n"
     ]
    }
   ],
   "source": [
    "# And use them directly, without prefixing them with \"random.\"\n",
    "print(random()) # a random float between 0 and 1\n",
    "print(randint(1, 10)) # a random integer between 1 and 10"
   ]
  },
  {
   "cell_type": "markdown",
   "id": "02c3f444",
   "metadata": {},
   "source": [
    "#### Now that we know how to use modules, let's learn how to create our own!To create a module, we simply need to create a new file with a \".py\" extension and define our functions and variables in it.For example, let's create a file called \"mymodule.py\" with the following content:\n"
   ]
  },
  {
   "cell_type": "raw",
   "id": "56b66496",
   "metadata": {},
   "source": [
    "def say_hello(name):\n",
    "    print(f\"Hello, {name}!\")\n",
    "\n",
    "def say_goodbye(name):\n",
    "    print(f\"Goodbye, {name}!\") "
   ]
  },
  {
   "cell_type": "raw",
   "id": "04e84603",
   "metadata": {},
   "source": [
    "# Now we can import our custom module just like any other module.\n",
    "import mymodule\n",
    "\n",
    "# And use the functions defined in it.\n",
    "mymodule.say_hello(\"Alice\") # Hello, Alice!\n",
    "mymodule.say_goodbye(\"Bob\") # Goodbye, Bob!\n"
   ]
  },
  {
   "cell_type": "markdown",
   "id": "dad7958c",
   "metadata": {},
   "source": [
    "<p style=\"font-family: 'Comic Sans MS';\">Python has lots of cool modules that can do some amazing things! Check out my beginner-friendly favorites, like random, math, os, datetime, and re. I've put together a handy table that gives you a quick rundown of what each module can do. Give them a try and see what kind of Python magic you can create!"
   ]
  },
  {
   "cell_type": "markdown",
   "id": "49273a0d",
   "metadata": {},
   "source": [
    "<table>\n",
    "  <thead>\n",
    "    <tr>\n",
    "      <th>Module Name</th>\n",
    "      <th>Description</th>\n",
    "    </tr>\n",
    "  </thead>\n",
    "  <tbody>\n",
    "    <tr>\n",
    "      <td>random</td>\n",
    "      <td>Provides functions to generate random numbers, sequences, and selections from a given list.</td>\n",
    "    </tr>\n",
    "    <tr>\n",
    "      <td>math</td>\n",
    "      <td>Provides mathematical functions for basic operations like trigonometry, logarithmic, and exponential functions.</td>\n",
    "    </tr>\n",
    "    <tr>\n",
    "      <td>os</td>\n",
    "      <td>Provides functions to interact with the operating system, like creating and deleting directories, checking for file existence, and executing commands in the terminal.</td>\n",
    "    </tr>\n",
    "    <tr>\n",
    "      <td>datetime</td>\n",
    "      <td>Provides classes to work with dates, times, and time intervals. You can use it to get the current time or to perform operations on dates and times, like adding or subtracting days, hours, or minutes.</td>\n",
    "    </tr>\n",
    "    <tr>\n",
    "      <td>re</td>\n",
    "      <td>Provides functions for regular expressions. You can use it to match patterns in strings, extract specific parts of a string, or replace parts of a string with a new value.</td>\n",
    "    </tr>\n",
    "  </tbody>\n",
    "</table>\n"
   ]
  },
  {
   "cell_type": "markdown",
   "id": "46441468",
   "metadata": {},
   "source": [
    "<p style=\"font-family: 'Comic Sans MS';\">If you want to use a module that's not already installed on your computer, don't worry! You can use pip to install it. Here's how:"
   ]
  },
  {
   "cell_type": "raw",
   "id": "5e1411d9",
   "metadata": {},
   "source": [
    "pip install module_name"
   ]
  },
  {
   "cell_type": "markdown",
   "id": "35bb35a0",
   "metadata": {},
   "source": [
    "<p style=\"font-family: 'Comic Sans MS';\"> For example, if you want to install the numpy module, you can run:"
   ]
  },
  {
   "cell_type": "code",
   "execution_count": null,
   "id": "d2906b06",
   "metadata": {},
   "outputs": [],
   "source": [
    "pip install numpy"
   ]
  },
  {
   "cell_type": "markdown",
   "id": "02badf6b",
   "metadata": {},
   "source": [
    "<p style=\"font-family: 'Comic Sans MS';\">To check which modules are already installed on your computer, you can use the following command: "
   ]
  },
  {
   "cell_type": "code",
   "execution_count": null,
   "id": "bd8b3aba",
   "metadata": {},
   "outputs": [],
   "source": [
    "pip list"
   ]
  },
  {
   "cell_type": "markdown",
   "id": "372c5828",
   "metadata": {},
   "source": [
    "<p style=\"font-family: 'Comic Sans MS';\">If you need to update a module to a newer version, you can use the following command:"
   ]
  },
  {
   "cell_type": "code",
   "execution_count": null,
   "id": "3a7a1f77",
   "metadata": {},
   "outputs": [],
   "source": [
    "pip install --upgrade module_name"
   ]
  },
  {
   "cell_type": "markdown",
   "id": "1f8347b1",
   "metadata": {},
   "source": [
    "<p style=\"font-family: 'Comic Sans MS';\">And if you need to uninstall a module, you can use the following command:\n"
   ]
  },
  {
   "cell_type": "code",
   "execution_count": null,
   "id": "e139b079",
   "metadata": {},
   "outputs": [],
   "source": [
    "pip uninstall module_name"
   ]
  },
  {
   "cell_type": "markdown",
   "id": "2def3e68",
   "metadata": {},
   "source": [
    "<p style=\"font-family: 'Comic Sans MS';\">So go ahead and try out some of these awesome Python modules and don't be afraid to use pip to get even more!"
   ]
  },
  {
   "cell_type": "markdown",
   "id": "3ff27b73",
   "metadata": {},
   "source": [
    "\n",
    "<p style=\"font-family: 'Comic Sans MS';\"># That's it for this introduction to modules in Python! I hope you found it helpful and fun. 😊\n",
    "    \n",
    "<p style=\"font-family: 'Comic Sans MS';\"># Now that you have learned the basics of modules, try exploring other commonly used modules and see how they can help you in your coding journey.\n",
    "<p style=\"font-family: 'Comic Sans MS';\"># Happy coding! 🚀</p>"
   ]
  },
  {
   "cell_type": "markdown",
   "id": "f77eb4ac",
   "metadata": {},
   "source": [
    "![Happy Coding!](https://media.giphy.com/media/QLtO7Hs5FXtJe/giphy.gif)"
   ]
  },
  {
   "cell_type": "markdown",
   "id": "e2f86ff4",
   "metadata": {},
   "source": [
    "<p style=\"font-family: 'Comic Sans MS'; font-size: 30px;\">All the best :)</p>"
   ]
  }
 ],
 "metadata": {
  "kernelspec": {
   "display_name": "Python 3 (ipykernel)",
   "language": "python",
   "name": "python3"
  },
  "language_info": {
   "codemirror_mode": {
    "name": "ipython",
    "version": 3
   },
   "file_extension": ".py",
   "mimetype": "text/x-python",
   "name": "python",
   "nbconvert_exporter": "python",
   "pygments_lexer": "ipython3",
   "version": "3.9.12"
  }
 },
 "nbformat": 4,
 "nbformat_minor": 5
}

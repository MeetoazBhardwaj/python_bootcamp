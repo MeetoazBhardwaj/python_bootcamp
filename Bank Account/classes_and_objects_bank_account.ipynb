{
 "cells": [
  {
   "cell_type": "markdown",
   "id": "da774236",
   "metadata": {},
   "source": [
    "In this Jupyter notebook, you will learn about classes and objects in Python using a bank account example. We will start by defining a BankAccount class and adding some basic attributes such as account number and balance. We will then add some methods to our class, including deposit, withdraw, and get_balance, to perform basic banking operations.By the end of this notebook, you should have a good understanding of how classes and objects work in Python and how to use them to create your own custom classes."
   ]
  },
  {
   "cell_type": "markdown",
   "id": "e079176e",
   "metadata": {},
   "source": [
    "First, let's create a class called BankAccount that will represent a simple bank account. We'll start by defining the class and adding some basic attributes:"
   ]
  },
  {
   "cell_type": "code",
   "execution_count": 53,
   "id": "9fea1b9d",
   "metadata": {},
   "outputs": [],
   "source": [
    "class BankAccount:\n",
    "    def __init__(self, account_number, balance):\n",
    "        self.account_number = account_number\n",
    "        self.balance = balance"
   ]
  },
  {
   "cell_type": "markdown",
   "id": "e1abd2ca",
   "metadata": {},
   "source": [
    "Here, we define a constructor method called __init__ that takes two arguments, account_number and balance. The self parameter refers to the instance of the class that is being created, and is required in every method of the class.\n",
    "\n",
    "We then set the account_number and balance attributes of the object using the arguments passed to the constructor.\n",
    "\n",
    "Let's add some methods to our class. We'll start with a deposit method that will allow us to add money to the account:"
   ]
  },
  {
   "cell_type": "code",
   "execution_count": 54,
   "id": "632375f3",
   "metadata": {},
   "outputs": [],
   "source": [
    "class BankAccount:\n",
    "    def __init__(self, account_number, balance):\n",
    "        self.account_number = account_number\n",
    "        self.balance = balance\n",
    "        \n",
    "    def deposit(self, amount):\n",
    "        self.balance += amount\n",
    "        print(f\"Deposit of {amount} successful. New balance is {self.balance}.\")\n"
   ]
  },
  {
   "cell_type": "markdown",
   "id": "d811d32d",
   "metadata": {},
   "source": [
    "Here, we define a deposit method that takes one argument, amount, which represents the amount of money to be deposited. We then add the amount to the balance attribute of the object, and print a message indicating the success of the deposit and the new balance.\n",
    "\n",
    "Next, let's add a withdraw method that will allow us to withdraw money from the account:"
   ]
  },
  {
   "cell_type": "code",
   "execution_count": 55,
   "id": "a4a4d906",
   "metadata": {},
   "outputs": [],
   "source": [
    "class BankAccount:\n",
    "    def __init__(self, account_number, balance):\n",
    "        self.account_number = account_number\n",
    "        self.balance = balance\n",
    "        \n",
    "    def deposit(self, amount):\n",
    "        self.balance += amount\n",
    "        print(f\"Deposit of {amount} successful. New balance is {self.balance}.\")\n",
    "        \n",
    "    def withdraw(self, amount):\n",
    "        if amount > self.balance:\n",
    "            print(\"Insufficient funds.\")\n",
    "        else:\n",
    "            self.balance -= amount\n",
    "            print(f\"Withdrawal of {amount} successful. New balance is {self.balance}.\")\n"
   ]
  },
  {
   "cell_type": "markdown",
   "id": "aeda0d40",
   "metadata": {},
   "source": [
    "Here, we define a withdraw method that takes one argument, amount, which represents the amount of money to be withdrawn. We first check if the amount is greater than the balance attribute of the object. If it is, we print a message indicating that there are insufficient funds. Otherwise, we subtract the amount from the balance attribute of the object and print a message indicating the success of the withdrawal and the new balance.\n",
    "\n",
    "Finally, let's add a get_balance method that will allow us to check the current balance of the account:"
   ]
  },
  {
   "cell_type": "code",
   "execution_count": 56,
   "id": "8dcf58fd",
   "metadata": {},
   "outputs": [],
   "source": [
    "class BankAccount:\n",
    "    def __init__(self, account_number, balance):\n",
    "        self.account_number = account_number\n",
    "        self.balance = balance\n",
    "        \n",
    "    def deposit(self, amount):\n",
    "        self.balance += amount\n",
    "        print(f\"Deposit of {amount} successful. New balance is {self.balance}.\")\n",
    "        \n",
    "    def withdraw(self, amount):\n",
    "        if amount > self.balance:\n",
    "            print(\"Insufficient funds.\")\n",
    "        else:\n",
    "            self.balance -= amount\n",
    "            print(f\"Withdrawal of {amount} successful. New balance is {self.balance}.\")\n",
    "            \n",
    "    def get_balance(self):\n",
    "        print(f\"Current balance is {self.balance}.\")\n"
   ]
  },
  {
   "cell_type": "markdown",
   "id": "96823bfa",
   "metadata": {},
   "source": [
    "Here, we define a get_balance method that takes no arguments. We simply print a message"
   ]
  },
  {
   "cell_type": "markdown",
   "id": "0dee4f72",
   "metadata": {},
   "source": [
    "indicating the current balance of the account using the balance attribute of the object.\n",
    "\n",
    "Now that we've defined our BankAccount class, let's create an instance of the class and use the methods we've defined. We'll start by creating a new bank account with an account number of 12345 and a starting balance of 1000:"
   ]
  },
  {
   "cell_type": "code",
   "execution_count": 57,
   "id": "3abe1376",
   "metadata": {},
   "outputs": [],
   "source": [
    "my_account = BankAccount(12345, 1000)"
   ]
  },
  {
   "cell_type": "markdown",
   "id": "6ac5f2e9",
   "metadata": {},
   "source": [
    "Here, we create a new instance of the BankAccount class called my_account, passing in the account number and balance as arguments.\n",
    "\n",
    "Now that we have an instance of our class, let's use the methods we've defined. We'll start by depositing some money into the account:"
   ]
  },
  {
   "cell_type": "code",
   "execution_count": 58,
   "id": "b1257d6d",
   "metadata": {},
   "outputs": [
    {
     "name": "stdout",
     "output_type": "stream",
     "text": [
      "Deposit of 500 successful. New balance is 1500.\n"
     ]
    }
   ],
   "source": [
    "my_account.deposit(500)"
   ]
  },
  {
   "cell_type": "markdown",
   "id": "45d9a925",
   "metadata": {},
   "source": [
    "Here, we call the deposit method of my_account, passing in 500 as the amount to be deposited. This should print a message indicating that the deposit was successful and the new balance of the account.\n",
    "\n",
    "Next, let's withdraw some money from the account:"
   ]
  },
  {
   "cell_type": "code",
   "execution_count": 59,
   "id": "685b4238",
   "metadata": {},
   "outputs": [
    {
     "name": "stdout",
     "output_type": "stream",
     "text": [
      "Withdrawal of 200 successful. New balance is 1300.\n"
     ]
    }
   ],
   "source": [
    "my_account.withdraw(200)"
   ]
  },
  {
   "cell_type": "markdown",
   "id": "67f5ccdd",
   "metadata": {},
   "source": [
    "Here, we call the withdraw method of my_account, passing in 200 as the amount to be withdrawn. This should print a message indicating that the withdrawal was successful and the new balance of the account.\n",
    "\n",
    "Finally, let's check the current balance of the account:"
   ]
  },
  {
   "cell_type": "code",
   "execution_count": 60,
   "id": "f64bf097",
   "metadata": {},
   "outputs": [
    {
     "name": "stdout",
     "output_type": "stream",
     "text": [
      "Current balance is 1300.\n"
     ]
    }
   ],
   "source": [
    "my_account.get_balance()"
   ]
  },
  {
   "cell_type": "markdown",
   "id": "e7fe96e8",
   "metadata": {},
   "source": [
    "Here, we call the get_balance method of my_account, which should print a message indicating the current balance of the account.\n",
    "\n",
    "That's it! We've now created a simple bank account class and used it to perform some basic banking operations. You can modify this code to add additional methods or attributes as needed to meet your specific needs."
   ]
  },
  {
   "cell_type": "code",
   "execution_count": null,
   "id": "e4e4b8c9",
   "metadata": {},
   "outputs": [],
   "source": []
  }
 ],
 "metadata": {
  "kernelspec": {
   "display_name": "Python 3 (ipykernel)",
   "language": "python",
   "name": "python3"
  },
  "language_info": {
   "codemirror_mode": {
    "name": "ipython",
    "version": 3
   },
   "file_extension": ".py",
   "mimetype": "text/x-python",
   "name": "python",
   "nbconvert_exporter": "python",
   "pygments_lexer": "ipython3",
   "version": "3.9.12"
  }
 },
 "nbformat": 4,
 "nbformat_minor": 5
}
